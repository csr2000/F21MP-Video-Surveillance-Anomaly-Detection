{
 "cells": [
  {
   "cell_type": "markdown",
   "id": "e1402cdf",
   "metadata": {},
   "source": [
    "# VIDEO SURVEILLANCE ANOMALY DETECTION-H00390442\n",
    "\n",
    "Thesis submission in fulfilment of the requirements for the degree of MSc. Artificial Intelligence. \n"
   ]
  },
  {
   "attachments": {
    "Flow%20diagram.png": {
     "image/png": "[encoded data removed]"
    }
   },
   "cell_type": "markdown",
   "id": "57df71e7",
   "metadata": {},
   "source": [
    "Video surveillance for crime prevention plays a vital role in public safety and security due to the high increase in crimes.  With the advent of new AI algorithms, new automatic detection methods have proved to be useful and these systems are trained to detect fires, raising alerts, identifying unattended baggage etc. in real-time. \n",
    "\n",
    "In this project, we compare and contrast different combination of models that uses Convolutional Neural Networks such as GoogLeNet, ResNet and Vision Transformers in a Transfer Learning approach using UCF Crime Dataset. The model will be evaluated based on measures such as accuracy and AUC curve.\n",
    "\n",
    "The diagram below gives the steps involved to achieve the goal of the project. \n",
    "\n",
    "![Flow%20diagram.png](attachment:Flow%20diagram.png)"
   ]
  },
  {
   "cell_type": "markdown",
   "id": "f99d4cb9",
   "metadata": {},
   "source": [
    "### The following cell is run for Vision Transformers and had to be placed before import commands to avoid error. "
   ]
  },
  {
   "cell_type": "code",
   "execution_count": 51,
   "id": "68ebe86a",
   "metadata": {},
   "outputs": [],
   "source": [
    "%%capture\n",
    "!sudo apt -qq install git-lfs\n",
    "!git config --global credential.helper store"
   ]
  },
  {
   "cell_type": "markdown",
   "id": "6fb3481a",
   "metadata": {},
   "source": [
    "### Importing libraries"
   ]
  },
  {
   "cell_type": "code",
   "execution_count": 2,
   "id": "c2d51605",
   "metadata": {},
   "outputs": [],
   "source": [
    "import numpy as np\n",
    "import pandas as pd\n",
    "import matplotlib.pyplot as plt\n",
    "import seaborn as sns\n",
    "import glob\n",
    "import os\n",
    "import shutil\n",
    "import math\n",
    "import cv2\n",
    "import keras\n",
    "from keras.callbacks import ModelCheckpoint, EarlyStopping\n",
    "import tensorflow as tf\n",
    "from tensorflow import keras\n",
    "from tensorflow.keras.layers import Dense, Conv2D, Flatten, MaxPool2D, Dropout, BatchNormalization, MaxPooling2D, GlobalAvgPool2D\n",
    "from tensorflow.keras.models import Model, Sequential\n",
    "from tensorflow.keras.preprocessing import image\n",
    "from keras.applications.resnet import ResNet50\n",
    "from keras.applications.inception_v3 import InceptionV3"
   ]
  },
  {
   "cell_type": "markdown",
   "id": "48f1fd5d",
   "metadata": {},
   "source": [
    "## Step 1: Data Acquisition\n",
    "\n",
    "The dataset is downloaded from https://www.dropbox.com/sh/75v5ehq4cdg5g5g/AABvnJSwZI7zXb8_myBA0CLHa?dl=0 given in   https://www.crcv.ucf.edu/projects/real-world/ which consists of 13 folders of anomaly videos and one folder of normal videos. The dataset which consists of zip folders was downloaded and extracted.  \n",
    "\n",
    "As we are focussing specifically on spatial features, we need to extract the frames from the videos."
   ]
  },
  {
   "cell_type": "markdown",
   "id": "3d52a38a",
   "metadata": {},
   "source": [
    "## Step 2: Extract Video Frames\n",
    "\n",
    "\n",
    "Following the documentation of opencv given in https://docs.opencv.org/4.x/dd/d43/tutorial_py_video_display.html, we extract the frames. "
   ]
  },
  {
   "cell_type": "code",
   "execution_count": null,
   "id": "93acc5c2",
   "metadata": {},
   "outputs": [],
   "source": [
    "#The dataset was saved in an external harddisk due to the large size. Path to dataset in the system is given below \n",
    "root_dir=r\"E:\\DATASETS\\UCF Crime\\UCF Crime\"\n",
    "\n",
    "count = 0\n",
    "videoFile = mainPath\n",
    "cap = cv2.VideoCapture(root_dir)   # capturing the video from the given path\n",
    "frameRate = cap.get(10) #frame rate\n",
    "x=1\n",
    "for dir in os.listdir(root_dir):\n",
    "    while(cap.isOpened()):\n",
    "        frameId = cap.get(1) #current frame number\n",
    "        # Capture frame-by-frame\n",
    "        ret, frame = cap.read()\n",
    "        if (ret != True):\n",
    "            print(\"Can't receive frame (stream end?). Exiting ...\")\n",
    "            break\n",
    "        if (frameId % math.floor(frameRate) == 0):\n",
    "            filename =\"frame%d.png\" % count;\n",
    "            count+=1\n",
    "            cv2.imwrite(filename, frame)\n",
    "# When everything done, release the capture\n",
    "cap.release()\n"
   ]
  },
  {
   "cell_type": "markdown",
   "id": "285c5b21",
   "metadata": {},
   "source": [
    "Count the number of images extracted for each of the anomalies. \n"
   ]
  },
  {
   "cell_type": "code",
   "execution_count": 4,
   "id": "941095ea",
   "metadata": {},
   "outputs": [
    {
     "data": {
      "text/plain": [
       "{'Abuse': 19076,\n",
       " 'Arrest': 26397,\n",
       " 'Arson': 24421,\n",
       " 'Assault': 10360,\n",
       " 'Burglary': 39504,\n",
       " 'Explosion': 18753,\n",
       " 'Fighting': 24684,\n",
       " 'NormalVideos': 413920,\n",
       " 'Robbery': 41493,\n",
       " 'Shooting': 7140,\n",
       " 'Shoplifting': 24835,\n",
       " 'Stealing': 44802,\n",
       " 'Vandalism': 13626,\n",
       " 'RoadAccidents': 23486}"
      ]
     },
     "execution_count": 4,
     "metadata": {},
     "output_type": "execute_result"
    }
   ],
   "source": [
    "Categories={}\n",
    "for dir in os.listdir(root_dir):\n",
    "    Categories[dir]=len(os.listdir(os.path.join(root_dir,dir)))\n",
    "\n",
    "Categories"
   ]
  },
  {
   "cell_type": "markdown",
   "id": "9494a6cd",
   "metadata": {},
   "source": [
    "## Step 3: Splitting images to 80% train and 20% test data"
   ]
  },
  {
   "cell_type": "code",
   "execution_count": 6,
   "id": "22da5144",
   "metadata": {},
   "outputs": [
    {
     "name": "stdout",
     "output_type": "stream",
     "text": [
      "Train Folder exists\n"
     ]
    }
   ],
   "source": [
    "#Creating Training folder\n",
    "\n",
    "if not os.path.exists(\"./train\"):\n",
    "    os.mkdir(\"./train\")\n",
    "    \n",
    "    for dir in os.listdir(root_dir):\n",
    "        os.makedirs(\"./train/\"+dir)\n",
    "        for img in np.random.choice(a=os.listdir(os.path.join(root_dir,dir)),size=(math.floor(80/100*Categories[dir])-5), replace=False):\n",
    "            O=os.path.join(root_dir,dir,img)\n",
    "            D=os.path.join(\"./train\",dir)\n",
    "            shutil.copy(O,D)\n",
    "            os.remove(O)\n",
    "            \n",
    "else:\n",
    "    print(\"Train Folder exists\")"
   ]
  },
  {
   "cell_type": "code",
   "execution_count": 8,
   "id": "17498917",
   "metadata": {},
   "outputs": [
    {
     "name": "stdout",
     "output_type": "stream",
     "text": [
      "Test Folder exists\n"
     ]
    }
   ],
   "source": [
    "#Creating Test folder\n",
    "\n",
    "if not os.path.exists(\"./test\"):\n",
    "    os.mkdir(\"./test\")\n",
    "    \n",
    "    for dir in os.listdir(root_dir):\n",
    "        os.makedirs(\"./test/\"+dir)\n",
    "        for img in np.random.choice(a=os.listdir(os.path.join(root_dir,dir)),size=(math.floor(20/100*Categories[dir])-5), replace=False):\n",
    "            O=os.path.join(root_dir,dir,img)\n",
    "            D=os.path.join(\"./test\",dir)\n",
    "            shutil.copy(O,D)\n",
    "            os.remove(O)\n",
    "            \n",
    "else:\n",
    "    print(\"Test Folder exists\")"
   ]
  },
  {
   "cell_type": "code",
   "execution_count": 3,
   "id": "956179da",
   "metadata": {},
   "outputs": [],
   "source": [
    "train_dir = r\"E:\\DATASETS\\UCF Crime\\Train\"\n",
    "test_dir = r\"E:\\DATASETS\\UCF Crime\\Test\""
   ]
  },
  {
   "cell_type": "markdown",
   "id": "5aaee3cd",
   "metadata": {},
   "source": [
    "## Step 4: Data Pre-processing using data generator\n",
    "\n",
    "https://www.tensorflow.org/api_docs/python/tf/keras/preprocessing/image/ImageDataGenerator"
   ]
  },
  {
   "cell_type": "code",
   "execution_count": 4,
   "id": "6d360b54",
   "metadata": {},
   "outputs": [],
   "source": [
    "#Data Preprocessing using data generator\n",
    "train_datagen=image.ImageDataGenerator(zoom_range=0.2, shear_range=0.2, rescale=1./255, horizontal_flip=True)\n",
    "test_Datagen=image.ImageDataGenerator(rescale=1./255)"
   ]
  },
  {
   "cell_type": "code",
   "execution_count": 5,
   "id": "d1675178",
   "metadata": {},
   "outputs": [
    {
     "name": "stdout",
     "output_type": "stream",
     "text": [
      "Found 732497 images belonging to 14 classes.\n",
      "Found 111308 images belonging to 14 classes.\n"
     ]
    }
   ],
   "source": [
    "#Flow from directory: Loading data in terms of batches\n",
    "\n",
    "train_data=train_datagen.flow_from_directory(directory=train_dir,target_size=(256,256), batch_size=64,color_mode = \"rgb\",class_mode='categorical')\n",
    "test_data=test_Datagen.flow_from_directory(directory=test_dir,target_size=(256,256), batch_size=64,color_mode = \"rgb\",class_mode='categorical')"
   ]
  },
  {
   "cell_type": "markdown",
   "id": "f2a6887b",
   "metadata": {},
   "source": [
    "## Step 5: ResNet50 Model\n",
    "\n",
    "Following the Keras documentation available from the following sites\n",
    "\n",
    "https://keras.io/api/applications/resnet/#resnet50-function\n",
    "\n",
    "https://keras.io/guides/transfer_learning/, \n",
    "\n",
    "we build our model by transfering the weights of ImageNet dataset. "
   ]
  },
  {
   "cell_type": "code",
   "execution_count": 5,
   "id": "e314bf75",
   "metadata": {},
   "outputs": [],
   "source": [
    "Resnet_model=Sequential()\n",
    "pretrained_model=tf.keras.applications.ResNet50(include_top=False,weights=\"imagenet\",input_shape=(256,256,3),classes=14)\n",
    "for layer in pretrained_model.layers:\n",
    "    layer.trainable=False\n",
    "Resnet_model.add(pretrained_model)\n",
    "Resnet_model.add(Flatten())\n",
    "Resnet_model.add(Dense(14,activation='softmax'))"
   ]
  },
  {
   "cell_type": "code",
   "execution_count": 6,
   "id": "0a2d83b6",
   "metadata": {},
   "outputs": [
    {
     "name": "stdout",
     "output_type": "stream",
     "text": [
      "Model: \"sequential\"\n",
      "_________________________________________________________________\n",
      "Layer (type)                 Output Shape              Param #   \n",
      "=================================================================\n",
      "resnet50 (Functional)        (None, 8, 8, 2048)        23587712  \n",
      "_________________________________________________________________\n",
      "flatten (Flatten)            (None, 131072)            0         \n",
      "_________________________________________________________________\n",
      "dense (Dense)                (None, 14)                1835022   \n",
      "=================================================================\n",
      "Total params: 25,422,734\n",
      "Trainable params: 1,835,022\n",
      "Non-trainable params: 23,587,712\n",
      "_________________________________________________________________\n"
     ]
    }
   ],
   "source": [
    "Resnet_model.compile(optimizer='adam',loss='categorical_crossentropy', metrics=['accuracy','AUC'])\n",
    "Resnet_model.summary()"
   ]
  },
  {
   "cell_type": "markdown",
   "id": "2e506183",
   "metadata": {},
   "source": [
    "Having early stopping and model check point. "
   ]
  },
  {
   "cell_type": "code",
   "execution_count": 7,
   "id": "7936c344",
   "metadata": {},
   "outputs": [],
   "source": [
    "# early stopping\n",
    "es = EarlyStopping(monitor='val_accuracy', min_delta= 0.01 , patience= 5, verbose= 1, mode='auto')\n",
    "# model check point\n",
    "mc = ModelCheckpoint(filepath=\"resnet_model.h5\", monitor= 'val_accuracy', verbose= 1, save_best_only= True, mode = 'auto')\n",
    "# puting call back in a list \n",
    "call_back = [es, mc]"
   ]
  },
  {
   "cell_type": "markdown",
   "id": "1e1090de",
   "metadata": {},
   "source": [
    "### Experimentation of ResNet Model\n",
    "\n",
    "The model was trained only on one epoch and later on five epochs. "
   ]
  },
  {
   "cell_type": "code",
   "execution_count": 11,
   "id": "d55a0e03",
   "metadata": {},
   "outputs": [
    {
     "name": "stdout",
     "output_type": "stream",
     "text": [
      "11446/11446 [==============================] - ETA: 0s - loss: 2.2121 - accuracy: 0.6738 - auc: 0.9081\n",
      "Epoch 00001: val_accuracy improved from -inf to 0.43614, saving model to resnet_model.h5\n",
      "11446/11446 [==============================] - 115791s 10s/step - loss: 2.2121 - accuracy: 0.6738 - auc: 0.9081 - val_loss: 3.5313 - val_accuracy: 0.4361 - val_auc: 0.8068\n"
     ]
    }
   ],
   "source": [
    "hist=Resnet_model.fit(x=train_data,validation_data=test_data, epochs=1, callbacks=call_back)"
   ]
  },
  {
   "cell_type": "code",
   "execution_count": 8,
   "id": "b45eeb95",
   "metadata": {},
   "outputs": [
    {
     "name": "stdout",
     "output_type": "stream",
     "text": [
      "Epoch 1/5\n",
      "11446/11446 [==============================] - ETA: 0s - loss: 2.2041 - accuracy: 0.6742 - auc: 0.9084\n",
      "Epoch 00001: val_accuracy improved from -inf to 0.35243, saving model to resnet_model.h5\n",
      "11446/11446 [==============================] - 123075s 11s/step - loss: 2.2041 - accuracy: 0.6742 - auc: 0.9084 - val_loss: 6.6845 - val_accuracy: 0.3524 - val_auc: 0.7507\n",
      "Epoch 2/5\n",
      "11446/11446 [==============================] - ETA: 0s - loss: 1.6085 - accuracy: 0.7511 - auc: 0.9356\n",
      "Epoch 00002: val_accuracy did not improve from 0.35243\n",
      "11446/11446 [==============================] - 121217s 11s/step - loss: 1.6085 - accuracy: 0.7511 - auc: 0.9356 - val_loss: 5.5417 - val_accuracy: 0.3222 - val_auc: 0.7341\n",
      "Epoch 3/5\n",
      "11446/11446 [==============================] - ETA: 0s - loss: 1.4199 - accuracy: 0.7808 - auc: 0.9440\n",
      "Epoch 00003: val_accuracy did not improve from 0.35243\n",
      "11446/11446 [==============================] - 123020s 11s/step - loss: 1.4199 - accuracy: 0.7808 - auc: 0.9440 - val_loss: 6.5811 - val_accuracy: 0.3227 - val_auc: 0.7429\n",
      "Epoch 4/5\n",
      "11446/11446 [==============================] - ETA: 0s - loss: 1.3283 - accuracy: 0.7970 - auc: 0.9477\n",
      "Epoch 00004: val_accuracy improved from 0.35243 to 0.39277, saving model to resnet_model.h5\n",
      "11446/11446 [==============================] - 121916s 11s/step - loss: 1.3283 - accuracy: 0.7970 - auc: 0.9477 - val_loss: 5.4911 - val_accuracy: 0.3928 - val_auc: 0.7735\n",
      "Epoch 5/5\n",
      "11446/11446 [==============================] - ETA: 0s - loss: 1.2717 - accuracy: 0.8094 - auc: 0.9513\n",
      "Epoch 00005: val_accuracy did not improve from 0.39277\n",
      "11446/11446 [==============================] - 121134s 11s/step - loss: 1.2717 - accuracy: 0.8094 - auc: 0.9513 - val_loss: 7.1658 - val_accuracy: 0.2791 - val_auc: 0.6594\n"
     ]
    }
   ],
   "source": [
    "hist=Resnet_model.fit(x=train_data,validation_data=test_data, epochs=5, callbacks=call_back)"
   ]
  },
  {
   "cell_type": "markdown",
   "id": "a3491d28",
   "metadata": {},
   "source": [
    "### Loading the best fit model"
   ]
  },
  {
   "cell_type": "code",
   "execution_count": 9,
   "id": "3d1e0a89",
   "metadata": {},
   "outputs": [],
   "source": [
    "from keras.models import load_model\n",
    "model=load_model(\"resnet_model.h5\")"
   ]
  },
  {
   "cell_type": "markdown",
   "id": "a0869ec0",
   "metadata": {},
   "source": [
    "### ResNet Model Accuracy"
   ]
  },
  {
   "cell_type": "code",
   "execution_count": 10,
   "id": "85b5c675",
   "metadata": {},
   "outputs": [
    {
     "name": "stdout",
     "output_type": "stream",
     "text": [
      "WARNING:tensorflow:From <ipython-input-10-eebd3e4a9878>:1: Model.evaluate_generator (from tensorflow.python.keras.engine.training) is deprecated and will be removed in a future version.\n",
      "Instructions for updating:\n",
      "Please use Model.evaluate, which supports generators.\n",
      "1740/1740 [==============================] - 14646s 8s/step - loss: 5.4911 - accuracy: 0.3928 - auc: 0.7735\n",
      "The accuracy of Resnet50 model is =39.27749991416931%\n"
     ]
    }
   ],
   "source": [
    "acc=model.evaluate_generator(generator=test_data,steps=len(test_data),verbose=1)[1]\n",
    "print(f\"The accuracy of Resnet50 model is ={acc*100}%\")"
   ]
  },
  {
   "cell_type": "code",
   "execution_count": 11,
   "id": "51d3595e",
   "metadata": {},
   "outputs": [
    {
     "data": {
      "text/plain": [
       "dict_keys(['loss', 'accuracy', 'auc', 'val_loss', 'val_accuracy', 'val_auc'])"
      ]
     },
     "execution_count": 11,
     "metadata": {},
     "output_type": "execute_result"
    }
   ],
   "source": [
    "h=hist.history\n",
    "h.keys()"
   ]
  },
  {
   "cell_type": "markdown",
   "id": "fab34bd8",
   "metadata": {},
   "source": [
    "### ResNet model plot against training and validation accuracy"
   ]
  },
  {
   "cell_type": "code",
   "execution_count": 12,
   "id": "6c1fa2ec",
   "metadata": {},
   "outputs": [
    {
     "data": {
      "image/png": "[encoded data removed]",
      "text/plain": [
       "<Figure size 432x288 with 1 Axes>"
      ]
     },
     "metadata": {
      "needs_background": "light"
     },
     "output_type": "display_data"
    }
   ],
   "source": [
    "plt.plot(h['accuracy'],label='Training')\n",
    "plt.plot(h['val_accuracy'],c='red',label='Validation')\n",
    "plt.title('Training Accuracy vs Validation Accuracy')\n",
    "plt.xlabel('Epochs')\n",
    "plt.ylabel('Accuracy')\n",
    "plt.grid()\n",
    "plt.legend()\n",
    "plt.show()"
   ]
  },
  {
   "cell_type": "markdown",
   "id": "28d84cdf",
   "metadata": {},
   "source": [
    "## Step 6: GoogLeNet Model\n",
    "\n",
    "Following the keras documentation available from https://keras.io/api/applications/inceptionv3/, we built our GoogLeNet model. "
   ]
  },
  {
   "cell_type": "code",
   "execution_count": 16,
   "id": "a6fb3809",
   "metadata": {},
   "outputs": [],
   "source": [
    "Inceptionv3_model=Sequential()\n",
    "pretrained_model_2=tf.keras.applications.InceptionV3(include_top=False,weights=\"imagenet\",input_shape=(256,256,3))\n",
    "for layer in pretrained_model_2.layers:\n",
    "    layer.trainable=False\n",
    "Inceptionv3_model.add(pretrained_model_2)\n",
    "Inceptionv3_model.add(Flatten())\n",
    "Inceptionv3_model.add(Dense(14,activation='softmax'))"
   ]
  },
  {
   "cell_type": "code",
   "execution_count": 17,
   "id": "236b9562",
   "metadata": {},
   "outputs": [
    {
     "name": "stdout",
     "output_type": "stream",
     "text": [
      "Model: \"sequential_1\"\n",
      "_________________________________________________________________\n",
      "Layer (type)                 Output Shape              Param #   \n",
      "=================================================================\n",
      "inception_v3 (Functional)    (None, 6, 6, 2048)        21802784  \n",
      "_________________________________________________________________\n",
      "flatten_1 (Flatten)          (None, 73728)             0         \n",
      "_________________________________________________________________\n",
      "dense_1 (Dense)              (None, 14)                1032206   \n",
      "=================================================================\n",
      "Total params: 22,834,990\n",
      "Trainable params: 1,032,206\n",
      "Non-trainable params: 21,802,784\n",
      "_________________________________________________________________\n"
     ]
    }
   ],
   "source": [
    "Inceptionv3_model.compile(optimizer='adam',loss='categorical_crossentropy', metrics=['accuracy','AUC'])\n",
    "Inceptionv3_model.summary()"
   ]
  },
  {
   "cell_type": "code",
   "execution_count": 22,
   "id": "17a28f2b",
   "metadata": {},
   "outputs": [],
   "source": [
    "# model check point\n",
    "mc = ModelCheckpoint(filepath=\"googlenet_model.h5\", monitor= 'val_accuracy', verbose= 1, save_best_only= True, mode = 'auto')\n",
    "# puting call back in a list \n",
    "call_back = [es, mc]"
   ]
  },
  {
   "cell_type": "markdown",
   "id": "4d205582",
   "metadata": {},
   "source": [
    "### Experimentation of GoogLeNet Model\n",
    "\n",
    "The model was trained only on one epoch and later on five epochs."
   ]
  },
  {
   "cell_type": "code",
   "execution_count": 23,
   "id": "265955bc",
   "metadata": {},
   "outputs": [
    {
     "name": "stdout",
     "output_type": "stream",
     "text": [
      "11446/11446 [==============================] - ETA: 0s - loss: 0.9252 - accuracy: 0.9653 - auc: 0.9846\n",
      "Epoch 00001: val_accuracy improved from -inf to 0.52341, saving model to googlenet_model.h5\n",
      "11446/11446 [==============================] - 93973s 8s/step - loss: 0.9252 - accuracy: 0.9653 - auc: 0.9846 - val_loss: 48.2088 - val_accuracy: 0.5234 - val_auc: 0.7513\n"
     ]
    }
   ],
   "source": [
    "hist_2=Inceptionv3_model.fit(x=train_data,validation_data=test_data, epochs=1, callbacks=call_back)"
   ]
  },
  {
   "cell_type": "code",
   "execution_count": 32,
   "id": "0e13da8c",
   "metadata": {},
   "outputs": [
    {
     "name": "stdout",
     "output_type": "stream",
     "text": [
      "Epoch 1/5\n",
      "11446/11446 [==============================] - ETA: 0s - loss: 0.8061 - accuracy: 0.9740 - auc: 0.9882\n",
      "Epoch 00001: val_accuracy did not improve from 0.52341\n",
      "11446/11446 [==============================] - 93695s 8s/step - loss: 0.8061 - accuracy: 0.9740 - auc: 0.9882 - val_loss: 53.7490 - val_accuracy: 0.4344 - val_auc: 0.7056\n",
      "Epoch 2/5\n",
      "11446/11446 [==============================] - ETA: 0s - loss: 0.7486 - accuracy: 0.9780 - auc: 0.9898\n",
      "Epoch 00002: val_accuracy did not improve from 0.52341\n",
      "11446/11446 [==============================] - 94182s 8s/step - loss: 0.7486 - accuracy: 0.9780 - auc: 0.9898 - val_loss: 68.2289 - val_accuracy: 0.3945 - val_auc: 0.6823\n",
      "Epoch 3/5\n",
      "11446/11446 [==============================] - ETA: 0s - loss: 0.6933 - accuracy: 0.9807 - auc: 0.9910\n",
      "Epoch 00003: val_accuracy did not improve from 0.52341\n",
      "11446/11446 [==============================] - 94423s 8s/step - loss: 0.6933 - accuracy: 0.9807 - auc: 0.9910 - val_loss: 65.5159 - val_accuracy: 0.5026 - val_auc: 0.7392\n",
      "Epoch 4/5\n",
      "11446/11446 [==============================] - ETA: 0s - loss: 0.6613 - accuracy: 0.9825 - auc: 0.9918\n",
      "Epoch 00004: val_accuracy did not improve from 0.52341\n",
      "11446/11446 [==============================] - 94849s 8s/step - loss: 0.6613 - accuracy: 0.9825 - auc: 0.9918 - val_loss: 73.4466 - val_accuracy: 0.4331 - val_auc: 0.7007\n",
      "Epoch 5/5\n",
      "11446/11446 [==============================] - ETA: 0s - loss: 0.6211 - accuracy: 0.9843 - auc: 0.9926\n",
      "Epoch 00005: val_accuracy did not improve from 0.52341\n",
      "11446/11446 [==============================] - 94929s 8s/step - loss: 0.6211 - accuracy: 0.9843 - auc: 0.9926 - val_loss: 97.0456 - val_accuracy: 0.3911 - val_auc: 0.6784\n"
     ]
    }
   ],
   "source": [
    "hist_2=Inceptionv3_model.fit(x=train_data,validation_data=test_data, epochs=5, callbacks=call_back)"
   ]
  },
  {
   "cell_type": "markdown",
   "id": "98230332",
   "metadata": {},
   "source": [
    "### Loading the best fit model"
   ]
  },
  {
   "cell_type": "code",
   "execution_count": 33,
   "id": "00a725c7",
   "metadata": {},
   "outputs": [],
   "source": [
    "from keras.models import load_model\n",
    "model_2=load_model(\"googlenet_model.h5\")"
   ]
  },
  {
   "cell_type": "markdown",
   "id": "7cb83758",
   "metadata": {},
   "source": [
    "### GoogLeNet Model Accuracy"
   ]
  },
  {
   "cell_type": "code",
   "execution_count": 34,
   "id": "98b830d9",
   "metadata": {},
   "outputs": [
    {
     "name": "stdout",
     "output_type": "stream",
     "text": [
      "1740/1740 [==============================] - 8965s 5s/step - loss: 48.2087 - accuracy: 0.5234 - auc_2: 0.7513\n",
      "The accuracy of GoogLeNet model is =52.34125256538391%\n"
     ]
    }
   ],
   "source": [
    "acc=model_2.evaluate_generator(generator=test_data,steps=len(test_data),verbose=1)[1]\n",
    "print(f\"The accuracy of GoogLeNet model is ={acc*100}%\")"
   ]
  },
  {
   "cell_type": "code",
   "execution_count": 35,
   "id": "00a410ca",
   "metadata": {},
   "outputs": [
    {
     "data": {
      "text/plain": [
       "dict_keys(['loss', 'accuracy', 'auc', 'val_loss', 'val_accuracy', 'val_auc'])"
      ]
     },
     "execution_count": 35,
     "metadata": {},
     "output_type": "execute_result"
    }
   ],
   "source": [
    "h2=hist_2.history\n",
    "h2.keys()"
   ]
  },
  {
   "cell_type": "markdown",
   "id": "5b963a59",
   "metadata": {},
   "source": [
    "### GoogLeNet model plot against training and validation accuracy"
   ]
  },
  {
   "cell_type": "code",
   "execution_count": 36,
   "id": "fdf295d5",
   "metadata": {},
   "outputs": [
    {
     "data": {
      "image/png": "[encoded data removed]",
      "text/plain": [
       "<Figure size 432x288 with 1 Axes>"
      ]
     },
     "metadata": {
      "needs_background": "light"
     },
     "output_type": "display_data"
    }
   ],
   "source": [
    "plt.plot(h2['accuracy'],label='Training')\n",
    "plt.plot(h2['val_accuracy'],c='red',label='Validation')\n",
    "plt.title('Training Accuracy vs Validation Accuracy')\n",
    "plt.xlabel('Epochs')\n",
    "plt.ylabel('Accuracy')\n",
    "plt.grid()\n",
    "plt.legend()\n",
    "plt.show()"
   ]
  },
  {
   "cell_type": "markdown",
   "id": "0f68dea8",
   "metadata": {},
   "source": [
    "## Step 7: Vision Transformer\n",
    "\n",
    "The following documentation of the model was followed from \n",
    "\n",
    "https://huggingface.co/docs/transformers/model_doc/vit#transformers.TFViTForImageClassification\n",
    "\n",
    "https://huggingface.co/docs/transformers/training"
   ]
  },
  {
   "cell_type": "markdown",
   "id": "8dbc9a93",
   "metadata": {},
   "source": [
    "### Installling necessary libraries"
   ]
  },
  {
   "cell_type": "code",
   "execution_count": 20,
   "id": "9296027d",
   "metadata": {},
   "outputs": [
    {
     "name": "stdout",
     "output_type": "stream",
     "text": [
      "^C\n",
      "Note: you may need to restart the kernel to use updated packages.\n"
     ]
    }
   ],
   "source": [
    "pip install git+https://github.com/huggingface/transformers.git"
   ]
  },
  {
   "cell_type": "code",
   "execution_count": 6,
   "id": "896de62b",
   "metadata": {},
   "outputs": [],
   "source": [
    "!pip install -q transformers"
   ]
  },
  {
   "cell_type": "code",
   "execution_count": 13,
   "id": "96be2f7c",
   "metadata": {},
   "outputs": [
    {
     "name": "stdout",
     "output_type": "stream",
     "text": [
      "Collecting pytorch-transformers\n",
      "  Using cached pytorch_transformers-1.2.0-py3-none-any.whl (176 kB)\n",
      "Collecting torch>=1.0.0\n",
      "  Downloading torch-1.12.1-cp39-cp39-win_amd64.whl (161.8 MB)\n",
      "Requirement already satisfied: boto3 in c:\\users\\user\\anaconda3\\lib\\site-packages (from pytorch-transformers) (1.21.32)\n",
      "Requirement already satisfied: regex in c:\\users\\user\\anaconda3\\lib\\site-packages (from pytorch-transformers) (2022.3.15)\n",
      "Collecting sentencepiece\n",
      "  Downloading sentencepiece-0.1.97-cp39-cp39-win_amd64.whl (1.1 MB)\n",
      "Collecting sacremoses\n",
      "  Using cached sacremoses-0.0.53.tar.gz (880 kB)\n",
      "Requirement already satisfied: tqdm in c:\\users\\user\\anaconda3\\lib\\site-packages (from pytorch-transformers) (4.64.0)\n",
      "Requirement already satisfied: numpy in c:\\users\\user\\anaconda3\\lib\\site-packages (from pytorch-transformers) (1.21.5)\n",
      "Requirement already satisfied: requests in c:\\users\\user\\anaconda3\\lib\\site-packages (from pytorch-transformers) (2.27.1)\n",
      "Requirement already satisfied: typing-extensions in c:\\users\\user\\anaconda3\\lib\\site-packages (from torch>=1.0.0->pytorch-transformers) (4.1.1)\n",
      "Requirement already satisfied: jmespath<2.0.0,>=0.7.1 in c:\\users\\user\\anaconda3\\lib\\site-packages (from boto3->pytorch-transformers) (0.10.0)\n",
      "Requirement already satisfied: botocore<1.25.0,>=1.24.32 in c:\\users\\user\\anaconda3\\lib\\site-packages (from boto3->pytorch-transformers) (1.24.32)\n",
      "Requirement already satisfied: s3transfer<0.6.0,>=0.5.0 in c:\\users\\user\\anaconda3\\lib\\site-packages (from boto3->pytorch-transformers) (0.5.0)\n",
      "Requirement already satisfied: urllib3<1.27,>=1.25.4 in c:\\users\\user\\anaconda3\\lib\\site-packages (from botocore<1.25.0,>=1.24.32->boto3->pytorch-transformers) (1.26.9)\n",
      "Requirement already satisfied: python-dateutil<3.0.0,>=2.1 in c:\\users\\user\\anaconda3\\lib\\site-packages (from botocore<1.25.0,>=1.24.32->boto3->pytorch-transformers) (2.8.2)\n",
      "Requirement already satisfied: six>=1.5 in c:\\users\\user\\anaconda3\\lib\\site-packages (from python-dateutil<3.0.0,>=2.1->botocore<1.25.0,>=1.24.32->boto3->pytorch-transformers) (1.16.0)\n",
      "Requirement already satisfied: idna<4,>=2.5 in c:\\users\\user\\anaconda3\\lib\\site-packages (from requests->pytorch-transformers) (3.3)\n",
      "Requirement already satisfied: charset-normalizer~=2.0.0 in c:\\users\\user\\anaconda3\\lib\\site-packages (from requests->pytorch-transformers) (2.0.4)\n",
      "Requirement already satisfied: certifi>=2017.4.17 in c:\\users\\user\\anaconda3\\lib\\site-packages (from requests->pytorch-transformers) (2021.10.8)\n",
      "Requirement already satisfied: click in c:\\users\\user\\anaconda3\\lib\\site-packages (from sacremoses->pytorch-transformers) (8.0.4)\n",
      "Requirement already satisfied: joblib in c:\\users\\user\\anaconda3\\lib\\site-packages (from sacremoses->pytorch-transformers) (1.1.0)\n",
      "Requirement already satisfied: colorama in c:\\users\\user\\anaconda3\\lib\\site-packages (from click->sacremoses->pytorch-transformers) (0.4.4)\n",
      "Building wheels for collected packages: sacremoses\n",
      "  Building wheel for sacremoses (setup.py): started\n",
      "  Building wheel for sacremoses (setup.py): finished with status 'done'\n",
      "  Created wheel for sacremoses: filename=sacremoses-0.0.53-py3-none-any.whl size=895260 sha256=c415ea492044a4d13783c6f7dea922ef83fe8ca93961a234556d2b60e0cdf89d\n",
      "  Stored in directory: c:\\users\\user\\appdata\\local\\pip\\cache\\wheels\\12\\1c\\3d\\46cf06718d63a32ff798a89594b61e7f345ab6b36d909ce033\n",
      "Successfully built sacremoses\n",
      "Installing collected packages: torch, sentencepiece, sacremoses, pytorch-transformers\n",
      "Successfully installed pytorch-transformers-1.2.0 sacremoses-0.0.53 sentencepiece-0.1.97 torch-1.12.1\n"
     ]
    }
   ],
   "source": [
    "!pip install pytorch-transformers"
   ]
  },
  {
   "cell_type": "code",
   "execution_count": 18,
   "id": "4a15c151",
   "metadata": {},
   "outputs": [
    {
     "name": "stdout",
     "output_type": "stream",
     "text": [
      "Collecting datasetsNote: you may need to restart the kernel to use updated packages.\n",
      "\n",
      "  Downloading datasets-2.4.0-py3-none-any.whl (365 kB)\n",
      "Collecting responses<0.19\n",
      "  Downloading responses-0.18.0-py3-none-any.whl (38 kB)\n",
      "Collecting xxhash\n",
      "  Downloading xxhash-3.0.0-cp39-cp39-win_amd64.whl (29 kB)\n",
      "Requirement already satisfied: requests>=2.19.0 in c:\\users\\user\\anaconda3\\lib\\site-packages (from datasets) (2.27.1)\n",
      "Requirement already satisfied: tqdm>=4.62.1 in c:\\users\\user\\anaconda3\\lib\\site-packages (from datasets) (4.64.0)\n",
      "Collecting dill<0.3.6\n",
      "  Downloading dill-0.3.5.1-py2.py3-none-any.whl (95 kB)\n",
      "Requirement already satisfied: aiohttp in c:\\users\\user\\anaconda3\\lib\\site-packages (from datasets) (3.8.1)\n",
      "Requirement already satisfied: fsspec[http]>=2021.11.1 in c:\\users\\user\\anaconda3\\lib\\site-packages (from datasets) (2022.2.0)\n",
      "Requirement already satisfied: numpy>=1.17 in c:\\users\\user\\anaconda3\\lib\\site-packages (from datasets) (1.21.5)\n",
      "Requirement already satisfied: packaging in c:\\users\\user\\anaconda3\\lib\\site-packages (from datasets) (21.3)\n",
      "Collecting multiprocess\n",
      "  Downloading multiprocess-0.70.13-py39-none-any.whl (132 kB)\n",
      "Requirement already satisfied: huggingface-hub<1.0.0,>=0.1.0 in c:\\users\\user\\anaconda3\\lib\\site-packages (from datasets) (0.8.1)\n",
      "Requirement already satisfied: pandas in c:\\users\\user\\anaconda3\\lib\\site-packages (from datasets) (1.4.2)\n",
      "Collecting pyarrow>=6.0.0\n",
      "  Downloading pyarrow-9.0.0-cp39-cp39-win_amd64.whl (19.6 MB)\n",
      "Requirement already satisfied: typing-extensions>=3.7.4.3 in c:\\users\\user\\anaconda3\\lib\\site-packages (from huggingface-hub<1.0.0,>=0.1.0->datasets) (4.1.1)\n",
      "Requirement already satisfied: filelock in c:\\users\\user\\anaconda3\\lib\\site-packages (from huggingface-hub<1.0.0,>=0.1.0->datasets) (3.6.0)\n",
      "Requirement already satisfied: pyyaml>=5.1 in c:\\users\\user\\anaconda3\\lib\\site-packages (from huggingface-hub<1.0.0,>=0.1.0->datasets) (6.0)\n",
      "Requirement already satisfied: pyparsing!=3.0.5,>=2.0.2 in c:\\users\\user\\anaconda3\\lib\\site-packages (from packaging->datasets) (3.0.4)\n",
      "Requirement already satisfied: charset-normalizer~=2.0.0 in c:\\users\\user\\anaconda3\\lib\\site-packages (from requests>=2.19.0->datasets) (2.0.4)\n",
      "Requirement already satisfied: idna<4,>=2.5 in c:\\users\\user\\anaconda3\\lib\\site-packages (from requests>=2.19.0->datasets) (3.3)\n",
      "Requirement already satisfied: certifi>=2017.4.17 in c:\\users\\user\\anaconda3\\lib\\site-packages (from requests>=2.19.0->datasets) (2021.10.8)\n",
      "Requirement already satisfied: urllib3<1.27,>=1.21.1 in c:\\users\\user\\anaconda3\\lib\\site-packages (from requests>=2.19.0->datasets) (1.26.9)\n",
      "Requirement already satisfied: colorama in c:\\users\\user\\anaconda3\\lib\\site-packages (from tqdm>=4.62.1->datasets) (0.4.4)\n",
      "Requirement already satisfied: attrs>=17.3.0 in c:\\users\\user\\anaconda3\\lib\\site-packages (from aiohttp->datasets) (21.4.0)\n",
      "Requirement already satisfied: multidict<7.0,>=4.5 in c:\\users\\user\\anaconda3\\lib\\site-packages (from aiohttp->datasets) (5.1.0)\n",
      "Requirement already satisfied: frozenlist>=1.1.1 in c:\\users\\user\\anaconda3\\lib\\site-packages (from aiohttp->datasets) (1.2.0)\n",
      "Requirement already satisfied: aiosignal>=1.1.2 in c:\\users\\user\\anaconda3\\lib\\site-packages (from aiohttp->datasets) (1.2.0)\n",
      "Requirement already satisfied: async-timeout<5.0,>=4.0.0a3 in c:\\users\\user\\anaconda3\\lib\\site-packages (from aiohttp->datasets) (4.0.1)\n",
      "Requirement already satisfied: yarl<2.0,>=1.0 in c:\\users\\user\\anaconda3\\lib\\site-packages (from aiohttp->datasets) (1.6.3)\n",
      "Requirement already satisfied: python-dateutil>=2.8.1 in c:\\users\\user\\anaconda3\\lib\\site-packages (from pandas->datasets) (2.8.2)\n",
      "Requirement already satisfied: pytz>=2020.1 in c:\\users\\user\\anaconda3\\lib\\site-packages (from pandas->datasets) (2021.3)\n",
      "Requirement already satisfied: six>=1.5 in c:\\users\\user\\anaconda3\\lib\\site-packages (from python-dateutil>=2.8.1->pandas->datasets) (1.16.0)\n",
      "Installing collected packages: dill, xxhash, responses, pyarrow, multiprocess, datasets\n",
      "Successfully installed datasets-2.4.0 dill-0.3.5.1 multiprocess-0.70.13 pyarrow-9.0.0 responses-0.18.0 xxhash-3.0.0\n"
     ]
    }
   ],
   "source": [
    "pip install datasets"
   ]
  },
  {
   "cell_type": "code",
   "execution_count": 16,
   "id": "85735c73",
   "metadata": {},
   "outputs": [
    {
     "name": "stdout",
     "output_type": "stream",
     "text": [
      "Collecting torchvision\n",
      "  Downloading torchvision-0.13.1-cp39-cp39-win_amd64.whl (1.1 MB)\n",
      "Requirement already satisfied: requests in c:\\users\\user\\anaconda3\\lib\\site-packages (from torchvision) (2.27.1)\n",
      "Requirement already satisfied: typing-extensions in c:\\users\\user\\anaconda3\\lib\\site-packages (from torchvision) (4.1.1)\n",
      "Requirement already satisfied: pillow!=8.3.*,>=5.3.0 in c:\\users\\user\\anaconda3\\lib\\site-packages (from torchvision) (9.0.1)\n",
      "Requirement already satisfied: torch==1.12.1 in c:\\users\\user\\anaconda3\\lib\\site-packages (from torchvision) (1.12.1)\n",
      "Requirement already satisfied: numpy in c:\\users\\user\\anaconda3\\lib\\site-packages (from torchvision) (1.21.5)\n",
      "Requirement already satisfied: idna<4,>=2.5 in c:\\users\\user\\anaconda3\\lib\\site-packages (from requests->torchvision) (3.3)\n",
      "Requirement already satisfied: certifi>=2017.4.17 in c:\\users\\user\\anaconda3\\lib\\site-packages (from requests->torchvision) (2021.10.8)\n",
      "Requirement already satisfied: urllib3<1.27,>=1.21.1 in c:\\users\\user\\anaconda3\\lib\\site-packages (from requests->torchvision) (1.26.9)\n",
      "Requirement already satisfied: charset-normalizer~=2.0.0 in c:\\users\\user\\anaconda3\\lib\\site-packages (from requests->torchvision) (2.0.4)\n",
      "Installing collected packages: torchvision\n",
      "Successfully installed torchvision-0.13.1\n",
      "Note: you may need to restart the kernel to use updated packages.\n"
     ]
    }
   ],
   "source": [
    "pip install torchvision"
   ]
  },
  {
   "cell_type": "markdown",
   "id": "ccd4d7a5",
   "metadata": {},
   "source": [
    "### Importing libraries related to Vision Transformers. "
   ]
  },
  {
   "cell_type": "code",
   "execution_count": 7,
   "id": "f709804c",
   "metadata": {},
   "outputs": [],
   "source": [
    "from transformers import ViTFeatureExtractor, ViTForImageClassification\n",
    "from huggingface_hub import notebook_login\n",
    "#Created an account on hugging face and the notebook.login code is to access and can be done by copying the access code available from hugging face\n",
    "from transformers import TFViTForImageClassification\n",
    "from datasets import load_dataset\n",
    "from transformers import AutoTokenizer\n",
    "import tensorflow as tf\n",
    "from keras.callbacks import TensorBoard as TensorboardCallback, EarlyStopping\n",
    "from datetime import datetime\n",
    "from transformers import TrainingArguments"
   ]
  },
  {
   "cell_type": "code",
   "execution_count": 23,
   "id": "1c537f32",
   "metadata": {},
   "outputs": [
    {
     "name": "stderr",
     "output_type": "stream",
     "text": [
      "UsageError: Line magic function `%%capture` not found.\n"
     ]
    }
   ],
   "source": [
    "#The following code cell was executed before the import statements to avoid error and can be seen as the first cell in this notebook. \n",
    "#install Git-LFS to upload your model checkpoints. For large data\n",
    "'''\n",
    "%%capture\n",
    "!sudo apt -qq install git-lfs\n",
    "!git config --global credential.helper store\n",
    "'''"
   ]
  },
  {
   "cell_type": "code",
   "execution_count": 22,
   "id": "75b8f20b",
   "metadata": {},
   "outputs": [
    {
     "name": "stdout",
     "output_type": "stream",
     "text": [
      "Login successful\n",
      "Your token has been saved to C:\\Users\\User/.huggingface/token\n"
     ]
    }
   ],
   "source": [
    "#Sign up in hugging face and copy token\n",
    "notebook_login()"
   ]
  },
  {
   "cell_type": "markdown",
   "id": "0bc2a6ba",
   "metadata": {},
   "source": [
    "### Importing data into Hugging Face hub and datasets"
   ]
  },
  {
   "cell_type": "code",
   "execution_count": 3,
   "id": "41c8fc54",
   "metadata": {},
   "outputs": [
    {
     "data": {
      "application/vnd.jupyter.widget-view+json": {
       "model_id": "b5c0ffcdf7df49a797651fa4658db153",
       "version_major": 2,
       "version_minor": 0
      },
      "text/plain": [
       "Resolving data files:   0%|          | 0/472116 [00:00<?, ?it/s]"
      ]
     },
     "metadata": {},
     "output_type": "display_data"
    },
    {
     "name": "stderr",
     "output_type": "stream",
     "text": [
      "Using custom data configuration default-87092f773d6ae028\n",
      "Reusing dataset imagefolder (C:\\Users\\User\\.cache\\huggingface\\datasets\\imagefolder\\default-87092f773d6ae028\\0.0.0\\0fc50c79b681877cc46b23245a6ef5333d036f48db40d53765a68034bc48faff)\n"
     ]
    },
    {
     "data": {
      "application/vnd.jupyter.widget-view+json": {
       "model_id": "350f2451eac04f839bd860bfb6dbef2e",
       "version_major": 2,
       "version_minor": 0
      },
      "text/plain": [
       "  0%|          | 0/1 [00:00<?, ?it/s]"
      ]
     },
     "metadata": {},
     "output_type": "display_data"
    }
   ],
   "source": [
    "ds = load_dataset(\"imagefolder\", data_dir=r\"E:\\DATASETS\\UCF Crime\\UCF Crime\")\n",
    "ds = ds['train']"
   ]
  },
  {
   "cell_type": "markdown",
   "id": "f745f1c9",
   "metadata": {},
   "source": [
    "## Step 3: Splitting images to 80% train and 20% test data"
   ]
  },
  {
   "cell_type": "code",
   "execution_count": 4,
   "id": "c90e91c1",
   "metadata": {},
   "outputs": [],
   "source": [
    "data = ds.train_test_split(test_size=0.20)"
   ]
  },
  {
   "cell_type": "code",
   "execution_count": 5,
   "id": "956d9637",
   "metadata": {},
   "outputs": [
    {
     "name": "stdout",
     "output_type": "stream",
     "text": [
      "Dataset Structure:\n",
      "Dataset({\n",
      "    features: ['image', 'label'],\n",
      "    num_rows: 472116\n",
      "})\n",
      "Dataset Labels: Abuse, Arrest, Arson, Assault, Burglary, Explosion, Fighting, NormalVideos, RoadAccidents, Robbery, Shooting, Shoplifting, Stealing, Vandalism\n"
     ]
    }
   ],
   "source": [
    "print(f\"Dataset Structure:\\n{ds}\",)\n",
    "print(f\"Dataset Labels: {', '.join(data['train'].features['label'].names)}\")"
   ]
  },
  {
   "cell_type": "markdown",
   "id": "24ddaafb",
   "metadata": {},
   "source": [
    "#### create an id2label dictionary to decode them back to strings and see what they are. The inverse label2id will be useful too, when we load the model later."
   ]
  },
  {
   "cell_type": "code",
   "execution_count": 6,
   "id": "63a44241",
   "metadata": {},
   "outputs": [],
   "source": [
    "labels = data[\"train\"].features[\"label\"].names\n",
    "label2id, id2label = dict(), dict()\n",
    "for i, label in enumerate(labels):\n",
    "    label2id[label] = i\n",
    "    id2label[i] = label"
   ]
  },
  {
   "cell_type": "markdown",
   "id": "25ddd32b",
   "metadata": {},
   "source": [
    "## Step 4: Data Pre-processing\n",
    "\n",
    "https://github.com/google-research/vision_transformer/blob/main/vit_jax/input_pipeline.py\n",
    "\n",
    "The path shows that images are to be rescaled or resizedto the resolution (224,224). The model was pretrained on ImageNet-21k  dataset which consists of 14 million images and more than 21000 classes. Thefeature extractor takes the images and convert them to numbers to feed into the model."
   ]
  },
  {
   "cell_type": "code",
   "execution_count": 8,
   "id": "9fd2511c",
   "metadata": {},
   "outputs": [
    {
     "name": "stderr",
     "output_type": "stream",
     "text": [
      "Some layers from the model checkpoint at google/vit-base-patch16-224-in21k were not used when initializing TFViTForImageClassification: ['vit/pooler/dense/bias:0', 'vit/pooler/dense/kernel:0']\n",
      "- This IS expected if you are initializing TFViTForImageClassification from the checkpoint of a model trained on another task or with another architecture (e.g. initializing a BertForSequenceClassification model from a BertForPreTraining model).\n",
      "- This IS NOT expected if you are initializing TFViTForImageClassification from the checkpoint of a model that you expect to be exactly identical (initializing a BertForSequenceClassification model from a BertForSequenceClassification model).\n",
      "Some layers of TFViTForImageClassification were not initialized from the model checkpoint at google/vit-base-patch16-224-in21k and are newly initialized: ['classifier']\n",
      "You should probably TRAIN this model on a down-stream task to be able to use it for predictions and inference.\n"
     ]
    }
   ],
   "source": [
    "model_3_path='google/vit-base-patch16-224-in21k'\n",
    "feature_extractor_3 = ViTFeatureExtractor.from_pretrained(model_3_path)\n",
    "model_3 = TFViTForImageClassification.from_pretrained(model_3_path)"
   ]
  },
  {
   "cell_type": "markdown",
   "id": "74e77cfa",
   "metadata": {},
   "source": [
    "torchvision.transforms usefor the image transformations/data augmentation https://pytorch.org/vision/stable/transforms.html#transforms-on-torch-tensor-only"
   ]
  },
  {
   "cell_type": "code",
   "execution_count": 9,
   "id": "18907982",
   "metadata": {},
   "outputs": [],
   "source": [
    "from torchvision.transforms import (\n",
    "    CenterCrop,\n",
    "    Compose,\n",
    "    Normalize,\n",
    "    RandomHorizontalFlip,\n",
    "    RandomResizedCrop,\n",
    "    Resize,\n",
    "    ToTensor,\n",
    ")\n",
    "\n",
    "normalize = Normalize(mean=feature_extractor_3.image_mean, std=feature_extractor_3.image_std)\n",
    "train_transforms = Compose(\n",
    "        [\n",
    "            RandomResizedCrop(feature_extractor_3.size),\n",
    "            RandomHorizontalFlip(),\n",
    "            ToTensor(),\n",
    "            normalize,\n",
    "        ]\n",
    "    )\n",
    "\n",
    "val_transforms = Compose(\n",
    "        [\n",
    "            Resize(feature_extractor_3.size),\n",
    "            CenterCrop(feature_extractor_3.size),\n",
    "            ToTensor(),\n",
    "            normalize,\n",
    "        ]\n",
    "    )\n",
    "\n",
    "def preprocess_train(example_batch):\n",
    "    \"\"\"Apply train_transforms across a batch.\"\"\"\n",
    "    example_batch[\"pixel_values\"] = [\n",
    "        train_transforms(image.convert(\"RGB\")) for image in example_batch[\"image\"]\n",
    "    ]\n",
    "    return example_batch\n",
    "\n",
    "def preprocess_val(example_batch):\n",
    "    \"\"\"Apply val_transforms across a batch.\"\"\"\n",
    "    example_batch[\"pixel_values\"] = [val_transforms(image.convert(\"RGB\")) for image in example_batch[\"image\"]]\n",
    "    return example_batch"
   ]
  },
  {
   "cell_type": "code",
   "execution_count": 10,
   "id": "1b630d00",
   "metadata": {},
   "outputs": [],
   "source": [
    "train_ds = data['train']\n",
    "val_ds = data['test']"
   ]
  },
  {
   "cell_type": "code",
   "execution_count": 11,
   "id": "04238b45",
   "metadata": {},
   "outputs": [],
   "source": [
    "train_ds.set_transform(preprocess_train)\n",
    "val_ds.set_transform(preprocess_val)"
   ]
  },
  {
   "cell_type": "markdown",
   "id": "9d6ecbdb",
   "metadata": {},
   "source": [
    "## Step 5: Vision Transformer (ViT) ModelTraining"
   ]
  },
  {
   "cell_type": "code",
   "execution_count": 61,
   "id": "644af284",
   "metadata": {},
   "outputs": [
    {
     "name": "stderr",
     "output_type": "stream",
     "text": [
      "loading configuration file https://huggingface.co/google/vit-base-patch16-224/resolve/main/config.json from cache at C:\\Users\\User/.cache\\huggingface\\transformers\\6b03b61d64598274e01717c40e8909f9e70531219a281e8163bd5b3af5c92d1a.c41e6c561c79e9b15e74a5cc284a31cba59cb1a9e209933c1a04a46ba2e20e44\n",
      "Model config ViTConfig {\n",
      "  \"_name_or_path\": \"google/vit-base-patch16-224\",\n",
      "  \"architectures\": [\n",
      "    \"ViTForImageClassification\"\n",
      "  ],\n",
      "  \"attention_probs_dropout_prob\": 0.0,\n",
      "  \"encoder_stride\": 16,\n",
      "  \"hidden_act\": \"gelu\",\n",
      "  \"hidden_dropout_prob\": 0.0,\n",
      "  \"hidden_size\": 768,\n",
      "  \"id2label\": {\n",
      "    \"0\": \"Abuse\",\n",
      "    \"1\": \"Arrest\",\n",
      "    \"10\": \"Shooting\",\n",
      "    \"11\": \"Shoplifting\",\n",
      "    \"12\": \"Stealing\",\n",
      "    \"13\": \"Vandalism\",\n",
      "    \"2\": \"Arson\",\n",
      "    \"3\": \"Assault\",\n",
      "    \"4\": \"Burglary\",\n",
      "    \"5\": \"Explosion\",\n",
      "    \"6\": \"Fighting\",\n",
      "    \"7\": \"NormalVideos\",\n",
      "    \"8\": \"RoadAccidents\",\n",
      "    \"9\": \"Robbery\"\n",
      "  },\n",
      "  \"image_size\": 224,\n",
      "  \"initializer_range\": 0.02,\n",
      "  \"intermediate_size\": 3072,\n",
      "  \"label2id\": {\n",
      "    \"Abuse\": \"0\",\n",
      "    \"Arrest\": \"1\",\n",
      "    \"Arson\": \"2\",\n",
      "    \"Assault\": \"3\",\n",
      "    \"Burglary\": \"4\",\n",
      "    \"Explosion\": \"5\",\n",
      "    \"Fighting\": \"6\",\n",
      "    \"NormalVideos\": \"7\",\n",
      "    \"RoadAccidents\": \"8\",\n",
      "    \"Robbery\": \"9\",\n",
      "    \"Shooting\": \"10\",\n",
      "    \"Shoplifting\": \"11\",\n",
      "    \"Stealing\": \"12\",\n",
      "    \"Vandalism\": \"13\"\n",
      "  },\n",
      "  \"layer_norm_eps\": 1e-12,\n",
      "  \"model_type\": \"vit\",\n",
      "  \"num_attention_heads\": 12,\n",
      "  \"num_channels\": 3,\n",
      "  \"num_hidden_layers\": 12,\n",
      "  \"patch_size\": 16,\n",
      "  \"qkv_bias\": true,\n",
      "  \"transformers_version\": \"4.21.1\"\n",
      "}\n",
      "\n",
      "loading weights file https://huggingface.co/google/vit-base-patch16-224/resolve/main/pytorch_model.bin from cache at C:\\Users\\User/.cache\\huggingface\\transformers\\2be66f502a86da34ba6c947f2c61e33e326b5ab34ee2213d634f6e7da1cafb69.2d858f78fc06693c373c41438a7379c6bc50f2c874d348ee505d8550393a5a88\n",
      "All model checkpoint weights were used when initializing ViTForImageClassification.\n",
      "\n",
      "Some weights of ViTForImageClassification were not initialized from the model checkpoint at google/vit-base-patch16-224 and are newly initialized because the shapes did not match:\n",
      "- classifier.weight: found shape torch.Size([1000, 768]) in the checkpoint and torch.Size([14, 768]) in the model instantiated\n",
      "- classifier.bias: found shape torch.Size([1000]) in the checkpoint and torch.Size([14]) in the model instantiated\n",
      "You should probably TRAIN this model on a down-stream task to be able to use it for predictions and inference.\n"
     ]
    }
   ],
   "source": [
    "model_3_path='google/vit-base-patch16-224'\n",
    "model_3 = ViTForImageClassification.from_pretrained(\n",
    "    model_3_path, \n",
    "    num_labels=len(labels),\n",
    "    id2label={str(i): c for i, c in enumerate(labels)},\n",
    "    label2id={c: str(i) for i, c in enumerate(labels)},ignore_mismatched_sizes=True\n",
    ")"
   ]
  },
  {
   "cell_type": "code",
   "execution_count": 55,
   "id": "cf605431",
   "metadata": {},
   "outputs": [
    {
     "name": "stderr",
     "output_type": "stream",
     "text": [
      "loading configuration file https://huggingface.co/google/vit-base-patch16-224/resolve/main/config.json from cache at C:\\Users\\User/.cache\\huggingface\\transformers\\6b03b61d64598274e01717c40e8909f9e70531219a281e8163bd5b3af5c92d1a.c41e6c561c79e9b15e74a5cc284a31cba59cb1a9e209933c1a04a46ba2e20e44\n",
      "Model config ViTConfig {\n",
      "  \"_name_or_path\": \"google/vit-base-patch16-224\",\n",
      "  \"architectures\": [\n",
      "    \"ViTForImageClassification\"\n",
      "  ],\n",
      "  \"attention_probs_dropout_prob\": 0.0,\n",
      "  \"encoder_stride\": 16,\n",
      "  \"hidden_act\": \"gelu\",\n",
      "  \"hidden_dropout_prob\": 0.0,\n",
      "  \"hidden_size\": 768,\n",
      "  \"id2label\": {\n",
      "    \"0\": \"Abuse\",\n",
      "    \"1\": \"Arrest\",\n",
      "    \"10\": \"Shooting\",\n",
      "    \"11\": \"Shoplifting\",\n",
      "    \"12\": \"Stealing\",\n",
      "    \"13\": \"Vandalism\",\n",
      "    \"2\": \"Arson\",\n",
      "    \"3\": \"Assault\",\n",
      "    \"4\": \"Burglary\",\n",
      "    \"5\": \"Explosion\",\n",
      "    \"6\": \"Fighting\",\n",
      "    \"7\": \"NormalVideos\",\n",
      "    \"8\": \"RoadAccidents\",\n",
      "    \"9\": \"Robbery\"\n",
      "  },\n",
      "  \"image_size\": 224,\n",
      "  \"initializer_range\": 0.02,\n",
      "  \"intermediate_size\": 3072,\n",
      "  \"label2id\": {\n",
      "    \"Abuse\": \"0\",\n",
      "    \"Arrest\": \"1\",\n",
      "    \"Arson\": \"2\",\n",
      "    \"Assault\": \"3\",\n",
      "    \"Burglary\": \"4\",\n",
      "    \"Explosion\": \"5\",\n",
      "    \"Fighting\": \"6\",\n",
      "    \"NormalVideos\": \"7\",\n",
      "    \"RoadAccidents\": \"8\",\n",
      "    \"Robbery\": \"9\",\n",
      "    \"Shooting\": \"10\",\n",
      "    \"Shoplifting\": \"11\",\n",
      "    \"Stealing\": \"12\",\n",
      "    \"Vandalism\": \"13\"\n",
      "  },\n",
      "  \"layer_norm_eps\": 1e-12,\n",
      "  \"model_type\": \"vit\",\n",
      "  \"num_attention_heads\": 12,\n",
      "  \"num_channels\": 3,\n",
      "  \"num_hidden_layers\": 12,\n",
      "  \"patch_size\": 16,\n",
      "  \"qkv_bias\": true,\n",
      "  \"transformers_version\": \"4.21.1\"\n",
      "}\n",
      "\n",
      "loading weights file https://huggingface.co/google/vit-base-patch16-224/resolve/main/tf_model.h5 from cache at C:\\Users\\User/.cache\\huggingface\\transformers\\68692de5d639281cf773cbec64d4513e4393b8331b53f62c3a403eaf388b8d3b.1b0ecc348295de47cb0bdb212e73f611e73b8378d2f1aad712ba52f1461ec099.h5\n",
      "All model checkpoint layers were used when initializing TFViTForImageClassification.\n",
      "\n",
      "Some weights of TFViTForImageClassification were not initialized from the model checkpoint at google/vit-base-patch16-224 and are newly initialized because the shapes did not match:\n",
      "- classifier/kernel:0: found shape (768, 1000) in the checkpoint and (768, 14) in the model instantiated\n",
      "- classifier/bias:0: found shape (1000,) in the checkpoint and (14,) in the model instantiated\n",
      "You should probably TRAIN this model on a down-stream task to be able to use it for predictions and inference.\n"
     ]
    }
   ],
   "source": [
    "model_3_path='google/vit-base-patch16-224'\n",
    "model_3 = TFViTForImageClassification.from_pretrained(\n",
    "    model_3_path, \n",
    "    num_labels=len(labels),\n",
    "    id2label={str(i): c for i, c in enumerate(labels)},\n",
    "    label2id={c: str(i) for i, c in enumerate(labels)},ignore_mismatched_sizes=True\n",
    ")"
   ]
  },
  {
   "cell_type": "code",
   "execution_count": 56,
   "id": "ac31fba7",
   "metadata": {},
   "outputs": [
    {
     "name": "stdout",
     "output_type": "stream",
     "text": [
      "Reseting model to original weights\n",
      "Freezing VIT layer\n",
      "Model: \"tf_vi_t_for_image_classification\"\n",
      "_________________________________________________________________\n",
      " Layer (type)                Output Shape              Param #   \n",
      "=================================================================\n",
      " vit (TFViTMainLayer)        multiple                  85798656  \n",
      "                                                                 \n",
      " classifier (Dense)          multiple                  10766     \n",
      "                                                                 \n",
      "=================================================================\n",
      "Total params: 85,809,422\n",
      "Trainable params: 10,766\n",
      "Non-trainable params: 85,798,656\n",
      "_________________________________________________________________\n",
      "None\n"
     ]
    }
   ],
   "source": [
    "optimizer_selection = \"Adam\"\n",
    "learning_rate = 0.01 \n",
    "num_of_epochs = 5\n",
    "early_stopper_epochs_patience = 3 \n",
    "freeze_vit_layer = True \n",
    "reset_model = True \n",
    "load_weights_by_name = \"\" \n",
    "og_weights = model_3.get_weights()\n",
    "if reset_model:\n",
    "    print(\"Reseting model to original weights\")\n",
    "    tf.keras.backend.clear_session()\n",
    "    model_3.set_weights(og_weights)\n",
    "\n",
    "if load_weights_by_name:\n",
    "    print(f\"Loading weights {load_weights_by_name}\")\n",
    "    model_3.load_weights(f\"/content/model_weights/{load_weights_by_name}\")\n",
    "\n",
    "for layer in model_3.layers:\n",
    "    if layer.name == \"vit\":\n",
    "        if freeze_vit_layer:\n",
    "            print(\"Freezing VIT layer\")\n",
    "            layer.trainable=False\n",
    "        else:\n",
    "            print(\"Fine-tuning the whole model\")\n",
    "            layer.trainable=True\n",
    "\n",
    "optimizer = tf.keras.optimizers.Adam(learning_rate=learning_rate)\n",
    "\n",
    "model_3.compile(optimizer=optimizer,\n",
    "              loss=tf.keras.losses.SparseCategoricalCrossentropy(from_logits=True),\n",
    "              metrics=[tf.keras.metrics.SparseCategoricalAccuracy(),tf.keras.metrics.AUC()],\n",
    "              )\n",
    "\n",
    "print(model_3.summary())\n",
    "          "
   ]
  },
  {
   "cell_type": "markdown",
   "id": "2a07a1c0",
   "metadata": {},
   "source": [
    "### Training the model"
   ]
  },
  {
   "cell_type": "code",
   "execution_count": 69,
   "id": "641e2d7c",
   "metadata": {},
   "outputs": [
    {
     "name": "stderr",
     "output_type": "stream",
     "text": [
      "PyTorch: setting up devices\n"
     ]
    }
   ],
   "source": [
    "training_args = TrainingArguments(\n",
    "    'UCF_Crime',\n",
    "  per_device_train_batch_size=32,\n",
    "  evaluation_strategy=\"steps\",\n",
    "  num_train_epochs=1,\n",
    "  save_steps=100,\n",
    "  eval_steps=100,\n",
    "  logging_steps=10,\n",
    "  learning_rate=2e-4,\n",
    "  save_total_limit=2,\n",
    "  remove_unused_columns=False,\n",
    "  push_to_hub=True,\n",
    "  report_to='tensorboard',\n",
    "  load_best_model_at_end=True,\n",
    "  hub_strategy=\"end\"\n",
    ")#"
   ]
  },
  {
   "cell_type": "code",
   "execution_count": 58,
   "id": "654d082a",
   "metadata": {},
   "outputs": [],
   "source": [
    "def compute_metrics(eval_pred):\n",
    "    \"\"\"Computes accuracy on a batch of predictions\"\"\"\n",
    "    predictions = np.argmax(eval_pred.predictions, axis=1)\n",
    "    return metric.compute(predictions=predictions, references=eval_pred.label_ids)"
   ]
  },
  {
   "cell_type": "code",
   "execution_count": 64,
   "id": "005774c6",
   "metadata": {},
   "outputs": [
    {
     "data": {
      "application/vnd.jupyter.widget-view+json": {
       "model_id": "003c125f24d043a6b8fca1c2bc31085f",
       "version_major": 2,
       "version_minor": 0
      },
      "text/plain": [
       "Downloading builder script:   0%|          | 0.00/1.65k [00:00<?, ?B/s]"
      ]
     },
     "metadata": {},
     "output_type": "display_data"
    }
   ],
   "source": [
    "from datasets import load_metric\n",
    "\n",
    "metric = load_metric(\"accuracy\")"
   ]
  },
  {
   "cell_type": "code",
   "execution_count": 59,
   "id": "5c360c53",
   "metadata": {},
   "outputs": [],
   "source": [
    "def collate_fn(batch):\n",
    "    return {\n",
    "        'pixel_values': torch.stack([x['pixel_values'] for x in batch]),\n",
    "        'labels': torch.tensor([x['label'] for x in batch])\n",
    "    }"
   ]
  },
  {
   "cell_type": "markdown",
   "id": "872fd695",
   "metadata": {},
   "source": [
    "###  TrainingArguments, which is a class that contains all the attributes to customize the training. "
   ]
  },
  {
   "cell_type": "code",
   "execution_count": 70,
   "id": "d8378100",
   "metadata": {},
   "outputs": [
    {
     "name": "stderr",
     "output_type": "stream",
     "text": [
      "C:\\Users\\User\\Heriot Watt\\F21MP\\UCF_Crime is already a clone of https://huggingface.co/csr2000/UCF_Crime. Make sure you pull the latest changes with `repo.git_pull()`.\n"
     ]
    }
   ],
   "source": [
    "trainer = Trainer(\n",
    "    model_3,\n",
    "    training_args,\n",
    "    train_dataset=train_ds,\n",
    "    eval_dataset=val_ds,\n",
    "    tokenizer=feature_extractor_3,\n",
    "    compute_metrics=compute_metrics,\n",
    "    data_collator=collate_fn,\n",
    ")"
   ]
  },
  {
   "cell_type": "markdown",
   "id": "974509ae",
   "metadata": {},
   "source": [
    "#### The model could only be trained for 100 steps and one epoch. Kernal was purposely interrupted and  The model evaluation was not conducted due to time constraints and is mentioned in the thesis as well."
   ]
  },
  {
   "cell_type": "code",
   "execution_count": 71,
   "id": "541e8090",
   "metadata": {},
   "outputs": [
    {
     "name": "stderr",
     "output_type": "stream",
     "text": [
      "***** Running training *****\n",
      "  Num examples = 377692\n",
      "  Num Epochs = 1\n",
      "  Instantaneous batch size per device = 32\n",
      "  Total train batch size (w. parallel, distributed & accumulation) = 32\n",
      "  Gradient Accumulation steps = 1\n",
      "  Total optimization steps = 11803\n"
     ]
    },
    {
     "data": {
      "text/html": [
       "\n",
       "    <div>\n",
       "      \n",
       "      <progress value='113' max='11803' style='width:300px; height:20px; vertical-align: middle;'></progress>\n",
       "      [  113/11803 14:36:01 < 1537:38:35, 0.00 it/s, Epoch 0.01/1]\n",
       "    </div>\n",
       "    <table border=\"1\" class=\"dataframe\">\n",
       "  <thead>\n",
       " <tr style=\"text-align: left;\">\n",
       "      <th>Step</th>\n",
       "      <th>Training Loss</th>\n",
       "      <th>Validation Loss</th>\n",
       "      <th>Accuracy</th>\n",
       "    </tr>\n",
       "  </thead>\n",
       "  <tbody>\n",
       "    <tr>\n",
       "      <td>100</td>\n",
       "      <td>1.102800</td>\n",
       "      <td>0.831629</td>\n",
       "      <td>0.753389</td>\n",
       "    </tr>\n",
       "  </tbody>\n",
       "</table><p>"
      ],
      "text/plain": [
       "<IPython.core.display.HTML object>"
      ]
     },
     "metadata": {},
     "output_type": "display_data"
    },
    {
     "name": "stderr",
     "output_type": "stream",
     "text": [
      "***** Running Evaluation *****\n",
      "  Num examples = 94424\n",
      "  Batch size = 8\n",
      "Saving model checkpoint to UCF_Crime\\checkpoint-100\n",
      "Configuration saved in UCF_Crime\\checkpoint-100\\config.json\n",
      "Model weights saved in UCF_Crime\\checkpoint-100\\pytorch_model.bin\n",
      "Feature extractor saved in UCF_Crime\\checkpoint-100\\preprocessor_config.json\n"
     ]
    },
    {
     "ename": "KeyboardInterrupt",
     "evalue": "",
     "output_type": "error",
     "traceback": [
      "\u001b[1;31m---------------------------------------------------------------------------\u001b[0m",
      "\u001b[1;31mKeyboardInterrupt\u001b[0m                         Traceback (most recent call last)",
      "Input \u001b[1;32mIn [71]\u001b[0m, in \u001b[0;36m<cell line: 1>\u001b[1;34m()\u001b[0m\n\u001b[1;32m----> 1\u001b[0m train_results \u001b[38;5;241m=\u001b[39m \u001b[43mtrainer\u001b[49m\u001b[38;5;241;43m.\u001b[39;49m\u001b[43mtrain\u001b[49m\u001b[43m(\u001b[49m\u001b[43m)\u001b[49m\n\u001b[0;32m      2\u001b[0m \u001b[38;5;66;03m# rest is optional but nice to have\u001b[39;00m\n\u001b[0;32m      3\u001b[0m trainer\u001b[38;5;241m.\u001b[39msave_model()\n",
      "File \u001b[1;32m~\\anaconda3\\lib\\site-packages\\transformers\\trainer.py:1498\u001b[0m, in \u001b[0;36mTrainer.train\u001b[1;34m(self, resume_from_checkpoint, trial, ignore_keys_for_eval, **kwargs)\u001b[0m\n\u001b[0;32m   1493\u001b[0m     \u001b[38;5;28mself\u001b[39m\u001b[38;5;241m.\u001b[39mmodel_wrapped \u001b[38;5;241m=\u001b[39m \u001b[38;5;28mself\u001b[39m\u001b[38;5;241m.\u001b[39mmodel\n\u001b[0;32m   1495\u001b[0m inner_training_loop \u001b[38;5;241m=\u001b[39m find_executable_batch_size(\n\u001b[0;32m   1496\u001b[0m     \u001b[38;5;28mself\u001b[39m\u001b[38;5;241m.\u001b[39m_inner_training_loop, \u001b[38;5;28mself\u001b[39m\u001b[38;5;241m.\u001b[39m_train_batch_size, args\u001b[38;5;241m.\u001b[39mauto_find_batch_size\n\u001b[0;32m   1497\u001b[0m )\n\u001b[1;32m-> 1498\u001b[0m \u001b[38;5;28;01mreturn\u001b[39;00m \u001b[43minner_training_loop\u001b[49m\u001b[43m(\u001b[49m\n\u001b[0;32m   1499\u001b[0m \u001b[43m    \u001b[49m\u001b[43margs\u001b[49m\u001b[38;5;241;43m=\u001b[39;49m\u001b[43margs\u001b[49m\u001b[43m,\u001b[49m\n\u001b[0;32m   1500\u001b[0m \u001b[43m    \u001b[49m\u001b[43mresume_from_checkpoint\u001b[49m\u001b[38;5;241;43m=\u001b[39;49m\u001b[43mresume_from_checkpoint\u001b[49m\u001b[43m,\u001b[49m\n\u001b[0;32m   1501\u001b[0m \u001b[43m    \u001b[49m\u001b[43mtrial\u001b[49m\u001b[38;5;241;43m=\u001b[39;49m\u001b[43mtrial\u001b[49m\u001b[43m,\u001b[49m\n\u001b[0;32m   1502\u001b[0m \u001b[43m    \u001b[49m\u001b[43mignore_keys_for_eval\u001b[49m\u001b[38;5;241;43m=\u001b[39;49m\u001b[43mignore_keys_for_eval\u001b[49m\u001b[43m,\u001b[49m\n\u001b[0;32m   1503\u001b[0m \u001b[43m\u001b[49m\u001b[43m)\u001b[49m\n",
      "File \u001b[1;32m~\\anaconda3\\lib\\site-packages\\transformers\\trainer.py:1740\u001b[0m, in \u001b[0;36mTrainer._inner_training_loop\u001b[1;34m(self, batch_size, args, resume_from_checkpoint, trial, ignore_keys_for_eval)\u001b[0m\n\u001b[0;32m   1738\u001b[0m         tr_loss_step \u001b[38;5;241m=\u001b[39m \u001b[38;5;28mself\u001b[39m\u001b[38;5;241m.\u001b[39mtraining_step(model, inputs)\n\u001b[0;32m   1739\u001b[0m \u001b[38;5;28;01melse\u001b[39;00m:\n\u001b[1;32m-> 1740\u001b[0m     tr_loss_step \u001b[38;5;241m=\u001b[39m \u001b[38;5;28;43mself\u001b[39;49m\u001b[38;5;241;43m.\u001b[39;49m\u001b[43mtraining_step\u001b[49m\u001b[43m(\u001b[49m\u001b[43mmodel\u001b[49m\u001b[43m,\u001b[49m\u001b[43m \u001b[49m\u001b[43minputs\u001b[49m\u001b[43m)\u001b[49m\n\u001b[0;32m   1742\u001b[0m \u001b[38;5;28;01mif\u001b[39;00m (\n\u001b[0;32m   1743\u001b[0m     args\u001b[38;5;241m.\u001b[39mlogging_nan_inf_filter\n\u001b[0;32m   1744\u001b[0m     \u001b[38;5;129;01mand\u001b[39;00m \u001b[38;5;129;01mnot\u001b[39;00m is_torch_tpu_available()\n\u001b[0;32m   1745\u001b[0m     \u001b[38;5;129;01mand\u001b[39;00m (torch\u001b[38;5;241m.\u001b[39misnan(tr_loss_step) \u001b[38;5;129;01mor\u001b[39;00m torch\u001b[38;5;241m.\u001b[39misinf(tr_loss_step))\n\u001b[0;32m   1746\u001b[0m ):\n\u001b[0;32m   1747\u001b[0m     \u001b[38;5;66;03m# if loss is nan or inf simply add the average of previous logged losses\u001b[39;00m\n\u001b[0;32m   1748\u001b[0m     tr_loss \u001b[38;5;241m+\u001b[39m\u001b[38;5;241m=\u001b[39m tr_loss \u001b[38;5;241m/\u001b[39m (\u001b[38;5;241m1\u001b[39m \u001b[38;5;241m+\u001b[39m \u001b[38;5;28mself\u001b[39m\u001b[38;5;241m.\u001b[39mstate\u001b[38;5;241m.\u001b[39mglobal_step \u001b[38;5;241m-\u001b[39m \u001b[38;5;28mself\u001b[39m\u001b[38;5;241m.\u001b[39m_globalstep_last_logged)\n",
      "File \u001b[1;32m~\\anaconda3\\lib\\site-packages\\transformers\\trainer.py:2488\u001b[0m, in \u001b[0;36mTrainer.training_step\u001b[1;34m(self, model, inputs)\u001b[0m\n\u001b[0;32m   2486\u001b[0m     loss \u001b[38;5;241m=\u001b[39m \u001b[38;5;28mself\u001b[39m\u001b[38;5;241m.\u001b[39mdeepspeed\u001b[38;5;241m.\u001b[39mbackward(loss)\n\u001b[0;32m   2487\u001b[0m \u001b[38;5;28;01melse\u001b[39;00m:\n\u001b[1;32m-> 2488\u001b[0m     \u001b[43mloss\u001b[49m\u001b[38;5;241;43m.\u001b[39;49m\u001b[43mbackward\u001b[49m\u001b[43m(\u001b[49m\u001b[43m)\u001b[49m\n\u001b[0;32m   2490\u001b[0m \u001b[38;5;28;01mreturn\u001b[39;00m loss\u001b[38;5;241m.\u001b[39mdetach()\n",
      "File \u001b[1;32m~\\anaconda3\\lib\\site-packages\\torch\\_tensor.py:396\u001b[0m, in \u001b[0;36mTensor.backward\u001b[1;34m(self, gradient, retain_graph, create_graph, inputs)\u001b[0m\n\u001b[0;32m    387\u001b[0m \u001b[38;5;28;01mif\u001b[39;00m has_torch_function_unary(\u001b[38;5;28mself\u001b[39m):\n\u001b[0;32m    388\u001b[0m     \u001b[38;5;28;01mreturn\u001b[39;00m handle_torch_function(\n\u001b[0;32m    389\u001b[0m         Tensor\u001b[38;5;241m.\u001b[39mbackward,\n\u001b[0;32m    390\u001b[0m         (\u001b[38;5;28mself\u001b[39m,),\n\u001b[1;32m   (...)\u001b[0m\n\u001b[0;32m    394\u001b[0m         create_graph\u001b[38;5;241m=\u001b[39mcreate_graph,\n\u001b[0;32m    395\u001b[0m         inputs\u001b[38;5;241m=\u001b[39minputs)\n\u001b[1;32m--> 396\u001b[0m \u001b[43mtorch\u001b[49m\u001b[38;5;241;43m.\u001b[39;49m\u001b[43mautograd\u001b[49m\u001b[38;5;241;43m.\u001b[39;49m\u001b[43mbackward\u001b[49m\u001b[43m(\u001b[49m\u001b[38;5;28;43mself\u001b[39;49m\u001b[43m,\u001b[49m\u001b[43m \u001b[49m\u001b[43mgradient\u001b[49m\u001b[43m,\u001b[49m\u001b[43m \u001b[49m\u001b[43mretain_graph\u001b[49m\u001b[43m,\u001b[49m\u001b[43m \u001b[49m\u001b[43mcreate_graph\u001b[49m\u001b[43m,\u001b[49m\u001b[43m \u001b[49m\u001b[43minputs\u001b[49m\u001b[38;5;241;43m=\u001b[39;49m\u001b[43minputs\u001b[49m\u001b[43m)\u001b[49m\n",
      "File \u001b[1;32m~\\anaconda3\\lib\\site-packages\\torch\\autograd\\__init__.py:173\u001b[0m, in \u001b[0;36mbackward\u001b[1;34m(tensors, grad_tensors, retain_graph, create_graph, grad_variables, inputs)\u001b[0m\n\u001b[0;32m    168\u001b[0m     retain_graph \u001b[38;5;241m=\u001b[39m create_graph\n\u001b[0;32m    170\u001b[0m \u001b[38;5;66;03m# The reason we repeat same the comment below is that\u001b[39;00m\n\u001b[0;32m    171\u001b[0m \u001b[38;5;66;03m# some Python versions print out the first line of a multi-line function\u001b[39;00m\n\u001b[0;32m    172\u001b[0m \u001b[38;5;66;03m# calls in the traceback and some print out the last line\u001b[39;00m\n\u001b[1;32m--> 173\u001b[0m \u001b[43mVariable\u001b[49m\u001b[38;5;241;43m.\u001b[39;49m\u001b[43m_execution_engine\u001b[49m\u001b[38;5;241;43m.\u001b[39;49m\u001b[43mrun_backward\u001b[49m\u001b[43m(\u001b[49m\u001b[43m  \u001b[49m\u001b[38;5;66;43;03m# Calls into the C++ engine to run the backward pass\u001b[39;49;00m\n\u001b[0;32m    174\u001b[0m \u001b[43m    \u001b[49m\u001b[43mtensors\u001b[49m\u001b[43m,\u001b[49m\u001b[43m \u001b[49m\u001b[43mgrad_tensors_\u001b[49m\u001b[43m,\u001b[49m\u001b[43m \u001b[49m\u001b[43mretain_graph\u001b[49m\u001b[43m,\u001b[49m\u001b[43m \u001b[49m\u001b[43mcreate_graph\u001b[49m\u001b[43m,\u001b[49m\u001b[43m \u001b[49m\u001b[43minputs\u001b[49m\u001b[43m,\u001b[49m\n\u001b[0;32m    175\u001b[0m \u001b[43m    \u001b[49m\u001b[43mallow_unreachable\u001b[49m\u001b[38;5;241;43m=\u001b[39;49m\u001b[38;5;28;43;01mTrue\u001b[39;49;00m\u001b[43m,\u001b[49m\u001b[43m \u001b[49m\u001b[43maccumulate_grad\u001b[49m\u001b[38;5;241;43m=\u001b[39;49m\u001b[38;5;28;43;01mTrue\u001b[39;49;00m\u001b[43m)\u001b[49m\n",
      "\u001b[1;31mKeyboardInterrupt\u001b[0m: "
     ]
    }
   ],
   "source": [
    "train_results = trainer.train()\n",
    "# rest is optional but nice to have\n",
    "trainer.save_model()\n",
    "trainer.log_metrics(\"train\", train_results.metrics)\n",
    "trainer.save_metrics(\"train\", train_results.metrics)\n",
    "trainer.save_state()"
   ]
  },
  {
   "cell_type": "markdown",
   "id": "7e9162e9",
   "metadata": {},
   "source": [
    "###  evaluate the model "
   ]
  },
  {
   "cell_type": "code",
   "execution_count": null,
   "id": "c094b793",
   "metadata": {},
   "outputs": [],
   "source": [
    "metrics = trainer.evaluate()\n",
    "trainer.log_metrics(\"eval\", metrics)\n",
    "trainer.save_metrics(\"eval\", metrics)"
   ]
  }
 ],
 "metadata": {
  "kernelspec": {
   "display_name": "Python 3 (ipykernel)",
   "language": "python",
   "name": "python3"
  },
  "language_info": {
   "codemirror_mode": {
    "name": "ipython",
    "version": 3
   },
   "file_extension": ".py",
   "mimetype": "text/x-python",
   "name": "python",
   "nbconvert_exporter": "python",
   "pygments_lexer": "ipython3",
   "version": "3.9.12"
  }
 },
 "nbformat": 4,
 "nbformat_minor": 5
}
